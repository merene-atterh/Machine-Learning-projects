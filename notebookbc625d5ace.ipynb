{
 "cells": [
  {
   "cell_type": "code",
   "execution_count": 1,
   "id": "dbc6dc5b",
   "metadata": {
    "_cell_guid": "b1076dfc-b9ad-4769-8c92-a6c4dae69d19",
    "_uuid": "8f2839f25d086af736a60e9eeb907d3b93b6e0e5",
    "execution": {
     "iopub.execute_input": "2021-12-27T16:07:13.801101Z",
     "iopub.status.busy": "2021-12-27T16:07:13.800164Z",
     "iopub.status.idle": "2021-12-27T16:07:13.817567Z",
     "shell.execute_reply": "2021-12-27T16:07:13.818444Z",
     "shell.execute_reply.started": "2021-12-27T04:22:43.308759Z"
    },
    "papermill": {
     "duration": 0.041515,
     "end_time": "2021-12-27T16:07:13.818953",
     "exception": false,
     "start_time": "2021-12-27T16:07:13.777438",
     "status": "completed"
    },
    "tags": []
   },
   "outputs": [
    {
     "name": "stdout",
     "output_type": "stream",
     "text": [
      "/kaggle/input/disease-prediction-using-machine-learning/Training.csv\n",
      "/kaggle/input/disease-prediction-using-machine-learning/Testing.csv\n"
     ]
    }
   ],
   "source": [
    "import pandas as pd\n",
    "import numpy as np\n",
    "\n",
    "\n",
    "\n",
    "import os\n",
    "for dirname, _, filenames in os.walk('/kaggle/input'):\n",
    "    for filename in filenames:\n",
    "        print(os.path.join(dirname, filename))\n"
   ]
  },
  {
   "cell_type": "code",
   "execution_count": 2,
   "id": "629ac27e",
   "metadata": {
    "execution": {
     "iopub.execute_input": "2021-12-27T16:07:13.846008Z",
     "iopub.status.busy": "2021-12-27T16:07:13.845211Z",
     "iopub.status.idle": "2021-12-27T16:07:13.964969Z",
     "shell.execute_reply": "2021-12-27T16:07:13.964220Z",
     "shell.execute_reply.started": "2021-12-27T04:22:43.319401Z"
    },
    "papermill": {
     "duration": 0.133638,
     "end_time": "2021-12-27T16:07:13.965158",
     "exception": false,
     "start_time": "2021-12-27T16:07:13.831520",
     "status": "completed"
    },
    "tags": []
   },
   "outputs": [],
   "source": [
    "training = pd.read_csv(\"../input/disease-prediction-using-machine-learning/Training.csv\")\n",
    "training\n",
    "testing = pd.read_csv(\"../input/disease-prediction-using-machine-learning/Testing.csv\")"
   ]
  },
  {
   "cell_type": "code",
   "execution_count": 3,
   "id": "f2af4055",
   "metadata": {
    "execution": {
     "iopub.execute_input": "2021-12-27T16:07:14.006955Z",
     "iopub.status.busy": "2021-12-27T16:07:13.992044Z",
     "iopub.status.idle": "2021-12-27T16:07:14.016000Z",
     "shell.execute_reply": "2021-12-27T16:07:14.016788Z",
     "shell.execute_reply.started": "2021-12-27T04:22:43.401867Z"
    },
    "papermill": {
     "duration": 0.043065,
     "end_time": "2021-12-27T16:07:14.017056",
     "exception": false,
     "start_time": "2021-12-27T16:07:13.973991",
     "status": "completed"
    },
    "tags": []
   },
   "outputs": [
    {
     "data": {
      "text/plain": [
       "Index(['itching', 'skin_rash', 'nodal_skin_eruptions', 'continuous_sneezing',\n",
       "       'shivering', 'chills', 'joint_pain', 'stomach_pain', 'acidity',\n",
       "       'ulcers_on_tongue',\n",
       "       ...\n",
       "       'blackheads', 'scurring', 'skin_peeling', 'silver_like_dusting',\n",
       "       'small_dents_in_nails', 'inflammatory_nails', 'blister',\n",
       "       'red_sore_around_nose', 'yellow_crust_ooze', 'prognosis'],\n",
       "      dtype='object', length=133)"
      ]
     },
     "execution_count": 3,
     "metadata": {},
     "output_type": "execute_result"
    }
   ],
   "source": [
    "training.drop('Unnamed: 133', axis=1, inplace=True)\n",
    "training.columns"
   ]
  },
  {
   "cell_type": "code",
   "execution_count": 4,
   "id": "b85cd37d",
   "metadata": {
    "execution": {
     "iopub.execute_input": "2021-12-27T16:07:14.043441Z",
     "iopub.status.busy": "2021-12-27T16:07:14.042426Z",
     "iopub.status.idle": "2021-12-27T16:07:14.055114Z",
     "shell.execute_reply": "2021-12-27T16:07:14.055926Z",
     "shell.execute_reply.started": "2021-12-27T04:22:43.414995Z"
    },
    "papermill": {
     "duration": 0.026352,
     "end_time": "2021-12-27T16:07:14.056206",
     "exception": false,
     "start_time": "2021-12-27T16:07:14.029854",
     "status": "completed"
    },
    "tags": []
   },
   "outputs": [
    {
     "data": {
      "text/plain": [
       "Fungal infection                           120\n",
       "Hepatitis C                                120\n",
       "Hepatitis E                                120\n",
       "Alcoholic hepatitis                        120\n",
       "Tuberculosis                               120\n",
       "Common Cold                                120\n",
       "Pneumonia                                  120\n",
       "Dimorphic hemmorhoids(piles)               120\n",
       "Heart attack                               120\n",
       "Varicose veins                             120\n",
       "Hypothyroidism                             120\n",
       "Hyperthyroidism                            120\n",
       "Hypoglycemia                               120\n",
       "Osteoarthristis                            120\n",
       "Arthritis                                  120\n",
       "(vertigo) Paroymsal  Positional Vertigo    120\n",
       "Acne                                       120\n",
       "Urinary tract infection                    120\n",
       "Psoriasis                                  120\n",
       "Hepatitis D                                120\n",
       "Hepatitis B                                120\n",
       "Allergy                                    120\n",
       "hepatitis A                                120\n",
       "GERD                                       120\n",
       "Chronic cholestasis                        120\n",
       "Drug Reaction                              120\n",
       "Peptic ulcer diseae                        120\n",
       "AIDS                                       120\n",
       "Diabetes                                   120\n",
       "Gastroenteritis                            120\n",
       "Bronchial Asthma                           120\n",
       "Hypertension                               120\n",
       "Migraine                                   120\n",
       "Cervical spondylosis                       120\n",
       "Paralysis (brain hemorrhage)               120\n",
       "Jaundice                                   120\n",
       "Malaria                                    120\n",
       "Chicken pox                                120\n",
       "Dengue                                     120\n",
       "Typhoid                                    120\n",
       "Impetigo                                   120\n",
       "Name: prognosis, dtype: int64"
      ]
     },
     "execution_count": 4,
     "metadata": {},
     "output_type": "execute_result"
    }
   ],
   "source": [
    "training['prognosis'].value_counts()"
   ]
  },
  {
   "cell_type": "code",
   "execution_count": 5,
   "id": "06ac05d9",
   "metadata": {
    "execution": {
     "iopub.execute_input": "2021-12-27T16:07:14.092519Z",
     "iopub.status.busy": "2021-12-27T16:07:14.082216Z",
     "iopub.status.idle": "2021-12-27T16:07:14.099941Z",
     "shell.execute_reply": "2021-12-27T16:07:14.099365Z",
     "shell.execute_reply.started": "2021-12-27T04:22:43.428582Z"
    },
    "papermill": {
     "duration": 0.032614,
     "end_time": "2021-12-27T16:07:14.100111",
     "exception": false,
     "start_time": "2021-12-27T16:07:14.067497",
     "status": "completed"
    },
    "tags": []
   },
   "outputs": [
    {
     "name": "stdout",
     "output_type": "stream",
     "text": [
      "X_train : (4920, 132) \n",
      "y_train : (4920, 1) \n",
      "X_test: (42, 132) \n",
      "y_test : (42, 1)\n"
     ]
    }
   ],
   "source": [
    "X_train = training.drop('prognosis', axis=1)\n",
    "y_train = training['prognosis']\n",
    "y_train = np.array(y_train).reshape(y_train.shape[0], 1)\n",
    "\n",
    "X_test = testing.drop('prognosis', axis=1)\n",
    "y_test = testing['prognosis']\n",
    "y_test = np.array(y_test).reshape(y_test.shape[0], 1)\n",
    "\n",
    "print(\"X_train : {} \\ny_train : {} \\nX_test: {} \\ny_test : {}\".format(X_train.shape, y_train.shape, X_test.shape, y_test.shape))\n"
   ]
  },
  {
   "cell_type": "code",
   "execution_count": 6,
   "id": "0bc64985",
   "metadata": {
    "execution": {
     "iopub.execute_input": "2021-12-27T16:07:14.129687Z",
     "iopub.status.busy": "2021-12-27T16:07:14.128884Z",
     "iopub.status.idle": "2021-12-27T16:07:15.536039Z",
     "shell.execute_reply": "2021-12-27T16:07:15.536590Z",
     "shell.execute_reply.started": "2021-12-27T04:22:43.446469Z"
    },
    "papermill": {
     "duration": 1.426372,
     "end_time": "2021-12-27T16:07:15.536819",
     "exception": false,
     "start_time": "2021-12-27T16:07:14.110447",
     "status": "completed"
    },
    "tags": []
   },
   "outputs": [
    {
     "name": "stdout",
     "output_type": "stream",
     "text": [
      "Accuracy on test set: 97.62%\n"
     ]
    }
   ],
   "source": [
    "from sklearn.tree import DecisionTreeClassifier\n",
    "from sklearn.metrics import classification_report,accuracy_score\n",
    "tree = DecisionTreeClassifier()\n",
    "tree.fit(X_train, y_train)\n",
    "\n",
    "pred = tree.predict(X_test)\n",
    "acc = tree.score(X_test, y_test)\n",
    "\n",
    "print(\"Accuracy on test set: {:.2f}%\".format(acc*100))"
   ]
  },
  {
   "cell_type": "code",
   "execution_count": null,
   "id": "64947aeb",
   "metadata": {
    "papermill": {
     "duration": 0.009378,
     "end_time": "2021-12-27T16:07:15.555911",
     "exception": false,
     "start_time": "2021-12-27T16:07:15.546533",
     "status": "completed"
    },
    "tags": []
   },
   "outputs": [],
   "source": []
  },
  {
   "cell_type": "markdown",
   "id": "d272c398",
   "metadata": {
    "papermill": {
     "duration": 0.00924,
     "end_time": "2021-12-27T16:07:15.575490",
     "exception": false,
     "start_time": "2021-12-27T16:07:15.566250",
     "status": "completed"
    },
    "tags": []
   },
   "source": []
  }
 ],
 "metadata": {
  "kernelspec": {
   "display_name": "Python 3",
   "language": "python",
   "name": "python3"
  },
  "language_info": {
   "codemirror_mode": {
    "name": "ipython",
    "version": 3
   },
   "file_extension": ".py",
   "mimetype": "text/x-python",
   "name": "python",
   "nbconvert_exporter": "python",
   "pygments_lexer": "ipython3",
   "version": "3.7.12"
  },
  "papermill": {
   "default_parameters": {},
   "duration": 13.545155,
   "end_time": "2021-12-27T16:07:16.599015",
   "environment_variables": {},
   "exception": null,
   "input_path": "__notebook__.ipynb",
   "output_path": "__notebook__.ipynb",
   "parameters": {},
   "start_time": "2021-12-27T16:07:03.053860",
   "version": "2.3.3"
  }
 },
 "nbformat": 4,
 "nbformat_minor": 5
}
